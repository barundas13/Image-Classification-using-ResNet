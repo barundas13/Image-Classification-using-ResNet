{
  "nbformat": 4,
  "nbformat_minor": 0,
  "metadata": {
    "colab": {
      "provenance": [],
      "gpuType": "T4"
    },
    "kernelspec": {
      "name": "python3",
      "display_name": "Python 3"
    },
    "language_info": {
      "name": "python"
    },
    "accelerator": "GPU"
  },
  "cells": [
    {
      "cell_type": "code",
      "source": [
        "import kagglehub\n",
        "\n",
        "# Download latest version\n",
        "path = kagglehub.dataset_download(\"arunrk7/surface-crack-detection\")\n",
        "\n",
        "print(\"Path to dataset files:\", path)"
      ],
      "metadata": {
        "colab": {
          "base_uri": "https://localhost:8080/"
        },
        "id": "UTyNOxxiO-9o",
        "outputId": "ec8eeef9-3570-4dd9-af57-fd902984b4df"
      },
      "execution_count": null,
      "outputs": [
        {
          "output_type": "stream",
          "name": "stdout",
          "text": [
            "Downloading from https://www.kaggle.com/api/v1/datasets/download/arunrk7/surface-crack-detection?dataset_version_number=1...\n"
          ]
        },
        {
          "output_type": "stream",
          "name": "stderr",
          "text": [
            "100%|██████████| 233M/233M [00:02<00:00, 102MB/s]"
          ]
        },
        {
          "output_type": "stream",
          "name": "stdout",
          "text": [
            "Extracting files...\n"
          ]
        },
        {
          "output_type": "stream",
          "name": "stderr",
          "text": [
            "\n"
          ]
        },
        {
          "output_type": "stream",
          "name": "stdout",
          "text": [
            "Path to dataset files: /root/.cache/kagglehub/datasets/arunrk7/surface-crack-detection/versions/1\n"
          ]
        }
      ]
    },
    {
      "cell_type": "code",
      "execution_count": null,
      "metadata": {
        "id": "QYE5LMSVOoKX"
      },
      "outputs": [],
      "source": [
        "from torchvision import datasets, transforms\n",
        "from torch.utils.data import DataLoader\n",
        "import torch"
      ]
    },
    {
      "cell_type": "code",
      "source": [
        "# Define a transform that only converts the images to tensors\n",
        "transform = transforms.Compose([transforms.ToTensor()])\n",
        "\n",
        "# Load the dataset with this transform\n",
        "dataset = datasets.ImageFolder(root='/root/.cache/kagglehub/datasets/arunrk7/surface-crack-detection/versions/1', transform=transform)\n",
        "loader = DataLoader(dataset, batch_size=64, shuffle=False, num_workers=2)"
      ],
      "metadata": {
        "id": "i7L4XZR_T8D2"
      },
      "execution_count": null,
      "outputs": []
    },
    {
      "cell_type": "code",
      "source": [
        "# Initialize variables to hold sum and squared sum of pixel values\n",
        "mean = 0.0\n",
        "std = 0.0\n",
        "total_images_count = 0\n",
        "\n",
        "# Iterate over the entire dataset\n",
        "for images, _ in loader:\n",
        "    batch_samples = images.size(0)  # batch size (the last batch can have fewer elements)\n",
        "    total_images_count += batch_samples\n",
        "    # Compute mean and std per batch\n",
        "    mean += images.mean([0, 2, 3]) * batch_samples\n",
        "    std += images.std([0, 2, 3]) * batch_samples\n",
        "\n",
        "# Calculate the final mean and std\n",
        "mean /= total_images_count\n",
        "std /= total_images_count"
      ],
      "metadata": {
        "id": "snLxTcBtO1u0"
      },
      "execution_count": null,
      "outputs": []
    },
    {
      "cell_type": "code",
      "source": [
        "print(f\"Mean: {mean}\")\n",
        "print(f\"Std: {std}\")"
      ],
      "metadata": {
        "colab": {
          "base_uri": "https://localhost:8080/"
        },
        "id": "zQ2mNW8TO3Yg",
        "outputId": "1902ac29-fac1-470f-c57b-33b357b35e31"
      },
      "execution_count": null,
      "outputs": [
        {
          "output_type": "stream",
          "name": "stdout",
          "text": [
            "Mean: tensor([0.6953, 0.6752, 0.6424])\n",
            "Std: tensor([0.1198, 0.1166, 0.1154])\n"
          ]
        }
      ]
    }
  ]
}